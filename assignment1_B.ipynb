{
 "cells": [
  {
   "cell_type": "markdown",
   "metadata": {},
   "source": [
    "# Float Assignment"
   ]
  },
  {
   "cell_type": "markdown",
   "metadata": {},
   "source": [
    "Q.1. Declare a float value and store it in a variable.\n",
    "Check the type and print the id of the same."
   ]
  },
  {
   "cell_type": "code",
   "execution_count": 46,
   "metadata": {},
   "outputs": [
    {
     "name": "stdout",
     "output_type": "stream",
     "text": [
      "<class 'float'>\n",
      "2721752324080\n"
     ]
    }
   ],
   "source": [
    "var = 25.6\n",
    "print(type(var))\n",
    "print(id(var))"
   ]
  },
  {
   "cell_type": "markdown",
   "metadata": {},
   "source": [
    "Q.2. Arithmetic Operations on float\n",
    "Take two different float values.\n",
    "Store them in two different variables.\n",
    "Do below operations on them:-\n",
    "Find sum of both numbers\n",
    "Find difference between them\n",
    "Find the product of both numbers.\n",
    "Find value after dividing first num with second number\n",
    "Find the remainder after dividing first number with second number\n",
    "Find the quotient after dividing first number with second number\n",
    "Find the result of the first num to the power of the second number."
   ]
  },
  {
   "cell_type": "code",
   "execution_count": 47,
   "metadata": {},
   "outputs": [
    {
     "name": "stdout",
     "output_type": "stream",
     "text": [
      "1.)8.76+2.95=11.71,\n",
      "2.)8.76-2.95= 5.81,\n",
      "3.)8.76*2.95= 25.842000000000002,\n",
      "4.)8.76/2.95=2.9694915254237286,\n",
      "5.)8.76%2.95= 2.8599999999999994,\n",
      "6.)8.76//2.95= 2.0,\n",
      "7.)8.76**2.95=603.0969236795083\n"
     ]
    }
   ],
   "source": [
    "val1 = 8.76\n",
    "val2 = 2.95\n",
    "val3 = val1 +val2\n",
    "val4 = val1 - val2\n",
    "val5 = val1 * val2\n",
    "val6 = val1/val2\n",
    "val7 = val1%val2\n",
    "val8 = val1 // val2\n",
    "val9 = val1 ** val2\n",
    "print(f'1.){val1}+{val2}={val3},\\n2.){val1}-{val2}= {val4},\\n3.){val1}*{val2}= {val5},\\n4.){val1}/{val2}={val6},\\n5.){val1}%{val2}= {val7},\\n6.){val1}//{val2}= {val8},\\n7.){val1}**{val2}={val9}')"
   ]
  },
  {
   "cell_type": "markdown",
   "metadata": {},
   "source": [
    "Q.3. Comparison Operators on float\n",
    "Take two different float values.\n",
    "Store them in two different variables.\n",
    "Do below operations on them:-\n",
    "Compare these two numbers with below operator:-\n",
    "Greater than, '>'\n",
    "Smaller than, '<'\n",
    "Greater than or equal to, '>='\n",
    "Less than or equal to, '<='\n",
    "Observe their output(return type should be boolean)"
   ]
  },
  {
   "cell_type": "code",
   "execution_count": 48,
   "metadata": {},
   "outputs": [
    {
     "name": "stdout",
     "output_type": "stream",
     "text": [
      "False\n",
      "True\n",
      "False\n",
      "True\n"
     ]
    }
   ],
   "source": [
    "val = 56.7\n",
    "val2 = 65.8\n",
    "print(val1>val2)\n",
    "print(val1<val2)\n",
    "print(val1>=val2)\n",
    "print(val1<=val2)"
   ]
  },
  {
   "cell_type": "markdown",
   "metadata": {},
   "source": [
    "Q.4. Equality Operator\n",
    "Take two different float values.\n",
    "Store them in two different variables.\n",
    "Equate them using equality operators (==, !=)\n",
    "Observe the output(return type should be boolean)"
   ]
  },
  {
   "cell_type": "code",
   "execution_count": 49,
   "metadata": {},
   "outputs": [
    {
     "name": "stdout",
     "output_type": "stream",
     "text": [
      "False\n",
      "True\n"
     ]
    }
   ],
   "source": [
    "val1 = 67.8\n",
    "val2 = 76.9\n",
    "print(val1==val2)\n",
    "print(val1 !=val2)"
   ]
  },
  {
   "cell_type": "markdown",
   "metadata": {},
   "source": [
    "Q.5. Logical operators\n",
    "Observe the output of below code\n",
    "Cross check the output manually\n",
    "print(10.20 and 20.30)\n",
    "print(20.30 and 0.0)\n",
    "print(0.0 and 0.0)\n",
    "print(10.20 or 20.30)\n",
    "print(0.0 or 20.30)\n",
    "print(20.30 or 0.0)\n",
    "print(0.0 or 0.0)\n",
    "print(not 10.20)\n",
    "print(not 0.0)"
   ]
  },
  {
   "cell_type": "code",
   "execution_count": 50,
   "metadata": {},
   "outputs": [
    {
     "name": "stdout",
     "output_type": "stream",
     "text": [
      "20.3\n",
      "0.0\n",
      "0.0\n",
      "10.2\n",
      "20.3\n",
      "20.3\n",
      "0.0\n",
      "False\n",
      "True\n"
     ]
    }
   ],
   "source": [
    "print(10.20 and 20.30)\n",
    "print(20.30   and 0.0)\n",
    "print(0.0 and 0.0)\n",
    "print(10.20 or 20.30)\n",
    "print(0.0 or 20.30)\n",
    "print(20.30 or 0.0)\n",
    "print(0.0 or 0.0)\n",
    "print(not 10.20)\n",
    "print(not 0.0)"
   ]
  },
  {
   "cell_type": "markdown",
   "metadata": {},
   "source": [
    "Q.6. What is the output of expression inside print statement. Cross check\n",
    "before running the program.\n",
    "a = 10.20\n",
    "b = 10.20\n",
    "print(a is b)\n",
    "print(a is not b)"
   ]
  },
  {
   "cell_type": "code",
   "execution_count": 51,
   "metadata": {},
   "outputs": [
    {
     "name": "stdout",
     "output_type": "stream",
     "text": [
      "False\n",
      "True\n"
     ]
    }
   ],
   "source": [
    "a = 10.20\n",
    "b = 10.20\n",
    "print(a is b)\n",
    "print(a is not b)"
   ]
  },
  {
   "cell_type": "markdown",
   "metadata": {},
   "source": [
    "Q.7. Why the Id of float values are different when the same value is\n",
    "assigned to two different variables?"
   ]
  },
  {
   "cell_type": "code",
   "execution_count": 52,
   "metadata": {},
   "outputs": [
    {
     "name": "stdout",
     "output_type": "stream",
     "text": [
      "2721751965424\n",
      "2721752323504\n"
     ]
    }
   ],
   "source": [
    "a= 10.20\n",
    "b=10.20\n",
    "print(id(a))\n",
    "print(id(b))"
   ]
  },
  {
   "cell_type": "markdown",
   "metadata": {},
   "source": [
    "Object Reusability concept is not applicable on float values as it is not possible to decide the frequently used range of values."
   ]
  },
  {
   "cell_type": "markdown",
   "metadata": {},
   "source": [
    "Q.8. Membership operation\n",
    "in, not in are two membership operators and it returns boolean value\n",
    "print('2.7' in 'Python2.7.8')\n",
    "print(10.20 in [10,10.20,10+20j,'Python'])\n",
    "print(10.20 in (10,10.20,10+20j,'Python'))\n",
    "print(20.30 in {1,20.30,30+40j})\n",
    "print(2.3 in {1:100, 2.3:200, 30+40j:300})\n",
    "print(10 in range(20))"
   ]
  },
  {
   "cell_type": "code",
   "execution_count": 53,
   "metadata": {},
   "outputs": [
    {
     "name": "stdout",
     "output_type": "stream",
     "text": [
      "True\n",
      "True\n",
      "True\n",
      "True\n",
      "True\n",
      "True\n"
     ]
    }
   ],
   "source": [
    "print('2.7' in 'Python2.7.8')\n",
    "print(10.20 in [10,10.20,10+20j,'Python'])\n",
    "print(10.20 in (10,10.20,10+20j,'Python'))\n",
    "print(20.30 in {1,20.30,30+40j})\n",
    "print(2.3 in {1:100, 2.3:200, 30+40j:300})\n",
    "print(10 in range(20))"
   ]
  },
  {
   "cell_type": "markdown",
   "metadata": {},
   "source": [
    "Q.9. Bitwise Operation not applicable on float values."
   ]
  },
  {
   "cell_type": "code",
   "execution_count": 54,
   "metadata": {
    "scrolled": true
   },
   "outputs": [
    {
     "ename": "TypeError",
     "evalue": "unsupported operand type(s) for &: 'float' and 'float'",
     "output_type": "error",
     "traceback": [
      "\u001b[1;31m---------------------------------------------------------------------------\u001b[0m",
      "\u001b[1;31mTypeError\u001b[0m                                 Traceback (most recent call last)",
      "\u001b[1;32m<ipython-input-54-0b14be86e9c6>\u001b[0m in \u001b[0;36m<module>\u001b[1;34m\u001b[0m\n\u001b[0;32m      1\u001b[0m \u001b[0ma\u001b[0m\u001b[1;33m=\u001b[0m \u001b[1;36m10.5\u001b[0m\u001b[1;33m\u001b[0m\u001b[1;33m\u001b[0m\u001b[0m\n\u001b[0;32m      2\u001b[0m \u001b[0mb\u001b[0m \u001b[1;33m=\u001b[0m \u001b[1;36m20.6\u001b[0m\u001b[1;33m\u001b[0m\u001b[1;33m\u001b[0m\u001b[0m\n\u001b[1;32m----> 3\u001b[1;33m \u001b[0mprint\u001b[0m\u001b[1;33m(\u001b[0m\u001b[0ma\u001b[0m\u001b[1;33m&\u001b[0m\u001b[0mb\u001b[0m\u001b[1;33m)\u001b[0m\u001b[1;33m\u001b[0m\u001b[1;33m\u001b[0m\u001b[0m\n\u001b[0m\u001b[0;32m      4\u001b[0m \u001b[1;31m#unsupported operand type for & : float values.\u001b[0m\u001b[1;33m\u001b[0m\u001b[1;33m\u001b[0m\u001b[1;33m\u001b[0m\u001b[0m\n",
      "\u001b[1;31mTypeError\u001b[0m: unsupported operand type(s) for &: 'float' and 'float'"
     ]
    }
   ],
   "source": [
    "a= 10.5\n",
    "b = 20.6\n",
    "print(a&b)\n",
    "#unsupported operand type for & : float values."
   ]
  }
 ],
 "metadata": {
  "kernelspec": {
   "display_name": "Python 3",
   "language": "python",
   "name": "python3"
  },
  "language_info": {
   "codemirror_mode": {
    "name": "ipython",
    "version": 3
   },
   "file_extension": ".py",
   "mimetype": "text/x-python",
   "name": "python",
   "nbconvert_exporter": "python",
   "pygments_lexer": "ipython3",
   "version": "3.7.7"
  }
 },
 "nbformat": 4,
 "nbformat_minor": 4
}
